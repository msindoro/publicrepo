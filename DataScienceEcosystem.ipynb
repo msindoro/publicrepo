{
 "cells": [
  {
   "cell_type": "markdown",
   "id": "16b53991-2521-44f7-be25-f24bdd263621",
   "metadata": {},
   "source": [
    "# Data Science Tools and Ecosystem"
   ]
  },
  {
   "cell_type": "markdown",
   "id": "2755e807-4792-43c2-be46-14b7cd66bd7f",
   "metadata": {},
   "source": [
    "In this notebook, Data Science Tools and Ecosystem are summarized."
   ]
  },
  {
   "cell_type": "markdown",
   "id": "48eecdba-2fb3-4439-a8de-78e989086612",
   "metadata": {},
   "source": [
    "Some of the popular languages that Data Scientists use are:\n",
    "<ol> <li>phython </li>\n",
    "    <li>R </li>\n",
    "    <li>C++</li>\n",
    "    <li>Scala</li>"
   ]
  },
  {
   "cell_type": "markdown",
   "id": "2a908281-f345-40e9-bf99-bf74b040d3dc",
   "metadata": {},
   "source": [
    "Some of the commonly used libraries used by Data Scientists include:\n",
    "<ol> <li>pandas </li>\n",
    "    <li>scipy </li>\n",
    "    <li>tensorflow </li>"
   ]
  },
  {
   "cell_type": "markdown",
   "id": "50edb94b-e86a-40a6-981b-c47790f9570b",
   "metadata": {},
   "source": [
    "|Data Science Tools|\n",
    "|:----------------:|\n",
    "|Google colab|\n",
    "|Kaggle|\n",
    "|Deepnote|"
   ]
  },
  {
   "cell_type": "markdown",
   "id": "59a4f5a3-56e6-4876-9991-454006637faa",
   "metadata": {},
   "source": [
    "### Below are a few examples of evaluating arithmetic expressions in Python"
   ]
  },
  {
   "cell_type": "code",
   "execution_count": 1,
   "id": "a793185b-2081-443f-8832-51b0ab641678",
   "metadata": {
    "tags": []
   },
   "outputs": [
    {
     "data": {
      "text/plain": [
       "17"
      ]
     },
     "execution_count": 1,
     "metadata": {},
     "output_type": "execute_result"
    }
   ],
   "source": [
    "## This a simple arithmetic expression to mutiply then add integers\n",
    "(3*4)+5"
   ]
  },
  {
   "cell_type": "code",
   "execution_count": 5,
   "id": "5f975f1a-9d39-4fed-a219-e35b9fcc3138",
   "metadata": {
    "tags": []
   },
   "outputs": [
    {
     "name": "stdout",
     "output_type": "stream",
     "text": [
      "3.3333333333333335\n"
     ]
    }
   ],
   "source": [
    "## This will convert 200 minutes to hours by diving by 60\n",
    "minutes = 200\n",
    "hour = minutes/60\n",
    "print(hour)"
   ]
  },
  {
   "cell_type": "markdown",
   "id": "af3dec8f-0109-4c87-9f5b-ee63f0b3b83a",
   "metadata": {},
   "source": [
    "**Objectives:**\n",
    "<ul><li>List popular languages for Data Science</li>\n",
    "    <li>Libraries for data science</li>\n",
    "    <li>Data science tools</li>"
   ]
  },
  {
   "cell_type": "markdown",
   "id": "04fde7cd-6ca8-42d2-84d5-108aac161f8d",
   "metadata": {
    "tags": []
   },
   "source": [
    "## Author\n",
    "Melinda"
   ]
  }
 ],
 "metadata": {
  "kernelspec": {
   "display_name": "Python",
   "language": "python",
   "name": "conda-env-python-py"
  },
  "language_info": {
   "codemirror_mode": {
    "name": "ipython",
    "version": 3
   },
   "file_extension": ".py",
   "mimetype": "text/x-python",
   "name": "python",
   "nbconvert_exporter": "python",
   "pygments_lexer": "ipython3",
   "version": "3.7.12"
  }
 },
 "nbformat": 4,
 "nbformat_minor": 5
}
